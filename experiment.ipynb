{
 "metadata": {
  "language_info": {
   "codemirror_mode": {
    "name": "ipython",
    "version": 3
   },
   "file_extension": ".py",
   "mimetype": "text/x-python",
   "name": "python",
   "nbconvert_exporter": "python",
   "pygments_lexer": "ipython3",
   "version": "3.8.6-final"
  },
  "orig_nbformat": 2,
  "kernelspec": {
   "name": "python38664bit51e85dc7914649adacd1e8cf74db12d0",
   "display_name": "Python 3.8.6 64-bit",
   "language": "python"
  }
 },
 "nbformat": 4,
 "nbformat_minor": 2,
 "cells": [
  {
   "cell_type": "code",
   "execution_count": 1,
   "metadata": {},
   "outputs": [],
   "source": [
    "from model import HancyModel\n",
    "from dataloader import NlpDataset, data_processing\n",
    "import torch.optim as optim\n",
    "from torch.utils.data import DataLoader\n",
    "from torch.nn import functional as F\n",
    "import torch.nn as nn\n",
    "from argparse import ArgumentParser\n",
    "from pytorch_lightning.loggers import TensorBoardLogger\n",
    "from pytorch_lightning.callbacks import ModelCheckpoint\n",
    "from torch.utils.data import random_split\n",
    "import torch\n",
    "import pickle\n",
    "\n",
    "from utils import TextProcess, processLabels\n",
    "import pytorch_lightning as pl"
   ]
  },
  {
   "cell_type": "code",
   "execution_count": 8,
   "metadata": {},
   "outputs": [],
   "source": [
    "def checkpoint_callback(args):\n",
    "    return ModelCheckpoint(\n",
    "        filepath=args.save_model_path,\n",
    "        save_top_k=True,\n",
    "        verbose=True,\n",
    "        monitor=\"val_loss\",\n",
    "        mode=\"min\",\n",
    "        prefix=\"\",\n",
    "    )\n",
    "\n",
    "\n",
    "class SpeechRecog(pl.LightningModule):\n",
    "    def __init__(self, model, args):\n",
    "        super().__init__()\n",
    "        self.model = model\n",
    "        self.criterion = nn.CTCLoss(blank=28, zero_infinity=True)\n",
    "        self.args = args\n",
    "\n",
    "    def configure_optimizers(self):\n",
    "        self.optimizer = optim.AdamW(self.model.parameters(), 0.01)\n",
    "        self.scheduler = optim.lr_scheduler.ReduceLROnPlateau(\n",
    "            self.optimizer, mode=\"min\", factor=0.50, patience=6\n",
    "        )\n",
    "        return (\n",
    "            {\n",
    "                \"optimizer\": self.optimizer,\n",
    "                \"lr_scheduler\": self.scheduler,\n",
    "                \"monitor\": \"val_checkpoint_on\",\n",
    "            },\n",
    "        )\n",
    "        # return [self.optimizer], [self.scheduler]\n",
    "\n",
    "    def forward(self, x, hidden):\n",
    "        return self.model(x, hidden)\n",
    "\n",
    "    def step(self, batch):\n",
    "        spectrograms, labels, input_lengths, label_lengths = batch\n",
    "        bs = spectrograms.shape[0]\n",
    "        hidden = self.model._init_hidden(bs)\n",
    "        hn, c0 = hidden[0].to(self.device), hidden[1].to(self.device)\n",
    "        output, _ = self(spectrograms, (hn, c0))\n",
    "        output = F.log_softmax(output, dim=2)\n",
    "        loss = self.criterion(output, labels, input_lengths, label_lengths)\n",
    "        return loss\n",
    "\n",
    "    def training_step(self, train_batch, batch_idx):\n",
    "        loss = self.step(train_batch)\n",
    "        logs = {\"loss\": loss, \"lr\": self.optimizer.param_groups[0][\"lr\"]}\n",
    "        return {\"loss\": loss, \"log\": logs}\n",
    "\n",
    "    def validation_step(self, val_batch, batch_idx):\n",
    "        loss = self.step(val_batch)\n",
    "        return {\"val_loss\": loss}"
   ]
  },
  {
   "cell_type": "code",
   "execution_count": 10,
   "metadata": {},
   "outputs": [
    {
     "output_type": "stream",
     "name": "stdout",
     "text": [
      "Loading x label\n",
      "Loaded all tensor\n",
      "Loading y label\n",
      "Loaded all label\n"
     ]
    }
   ],
   "source": [
    "class Args():\n",
    "    def __init__(self):\n",
    "        self.load_x = \"/home/sam/Downloads/firstzipdata.pt\"\n",
    "        self.load_y = \"/home/sam/Downloads/firstziplabel.txt\"\n",
    "        self.save_model_path = \"checkpoint\"\n",
    "        self.load_model_from = \"checkpoint\"\n",
    "tprocess = TextProcess()\n",
    "\n",
    "args = Args()\n",
    "\n",
    "print(\"Loading x label\")\n",
    "x = torch.load(args.load_x)\n",
    "print(\"Loaded all tensor\")\n",
    "print(\"Loading y label\")\n",
    "y = processLabels(pickle.load(open(args.load_y, \"rb\")))\n",
    "print(\"Loaded all label\")"
   ]
  },
  {
   "cell_type": "code",
   "execution_count": 11,
   "metadata": {},
   "outputs": [],
   "source": [
    "\n",
    "dataset = NlpDataset(x, y)\n",
    "tt = int(len(dataset) * 0.8)\n",
    "tl = len(dataset) - tt\n",
    "train, val = random_split(dataset, [tt, tl])\n",
    "train_loader = DataLoader(\n",
    "    dataset=train, collate_fn=data_processing(dataset, tprocess)\n",
    ")\n",
    "val_loader = DataLoader(dataset=val, collate_fn=data_processing(dataset, tprocess))\n",
    "\n",
    "model = HancyModel()\n",
    "speechmodule = SpeechRecog(model, args)\n",
    "trainer = pl.Trainer(\n",
    "    max_epochs=2,\n",
    "    gpus=1,\n",
    "    num_nodes=1,\n",
    "    distributed_backend=None,\n",
    "    gradient_clip_val=1.0,\n",
    "    val_check_interval=0.25,\n",
    "    checkpoint_callback=checkpoint_callback(args),\n",
    "    # resume_from_checkpoint=args.resume_from_checkpoint,\n",
    ")\n",
    "trainer.fit(speechmodule, train_loader, val_loader)"
   ]
  },
  {
   "cell_type": "code",
   "execution_count": null,
   "metadata": {},
   "outputs": [],
   "source": []
  }
 ]
}